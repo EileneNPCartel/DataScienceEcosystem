{
 "cells": [
  {
   "cell_type": "markdown",
   "id": "7c628171-efbd-4a37-832a-b46ec23116b9",
   "metadata": {},
   "source": [
    "## Data Science Tools and Ecosystem"
   ]
  },
  {
   "cell_type": "markdown",
   "id": "a90ab9d1-927a-41dd-a81f-9de6078ca57c",
   "metadata": {},
   "source": [
    "In this notebook, Data Science Tools and Ecosystem are summarized."
   ]
  },
  {
   "cell_type": "markdown",
   "id": "a3fea2de-af17-4501-b2f3-e7893c086e62",
   "metadata": {},
   "source": [
    "**Objectives:**"
   ]
  },
  {
   "cell_type": "markdown",
   "id": "8477b2db-2f87-4b11-a847-6812c94bd3b1",
   "metadata": {},
   "source": [
    "- List popular languages for Data Science \n",
    "- List popular libraries for Data Science \n",
    "- List popular open source tools for Data Science"
   ]
  },
  {
   "cell_type": "markdown",
   "id": "74dde884-0a21-4210-aa9f-47f04c7fcd5b",
   "metadata": {},
   "source": [
    "Some of the popular languages that Data Scientists use are:"
   ]
  },
  {
   "cell_type": "markdown",
   "id": "c64b7297-163a-404b-8e0a-d7d11621e70a",
   "metadata": {
    "tags": []
   },
   "source": [
    "1. SQL\n",
    "2. R\n",
    "3. Java"
   ]
  },
  {
   "cell_type": "markdown",
   "id": "b79e7fc5-e62b-4feb-82d0-eafaefd6b9dc",
   "metadata": {},
   "source": [
    "Some of the commonly used libraries used by Data Scientists include:"
   ]
  },
  {
   "cell_type": "markdown",
   "id": "1fdb5ace-0584-412b-99a4-728b869f947e",
   "metadata": {},
   "source": [
    "1. NumPy\n",
    "2. Keras\n",
    "3. Pandas"
   ]
  },
  {
   "cell_type": "markdown",
   "id": "698d43ff-c3d2-4cca-8d48-f66a04856138",
   "metadata": {},
   "source": [
    "|Data Science Tools|\n",
    "------------------\n",
    "|RStudio|\n",
    "|Apache Spark|\n",
    "|Spyder|"
   ]
  },
  {
   "cell_type": "markdown",
   "id": "14059339-956e-4aca-9b05-80ec9547cb3d",
   "metadata": {},
   "source": [
    "### Below are a few examples of evaluating arithmetic expressions in Python"
   ]
  },
  {
   "cell_type": "code",
   "execution_count": 10,
   "id": "12a7f645-e134-41e1-8468-78790a064065",
   "metadata": {
    "tags": []
   },
   "outputs": [
    {
     "data": {
      "text/plain": [
       "17"
      ]
     },
     "execution_count": 10,
     "metadata": {},
     "output_type": "execute_result"
    }
   ],
   "source": [
    "#This a simple arithmetic expression to mutiply then add integers\n",
    "(3*4)+5"
   ]
  },
  {
   "cell_type": "code",
   "execution_count": 11,
   "id": "d3b93380-3bff-4cde-af34-02af21452107",
   "metadata": {
    "tags": []
   },
   "outputs": [
    {
     "data": {
      "text/plain": [
       "3.3333333333333335"
      ]
     },
     "execution_count": 11,
     "metadata": {},
     "output_type": "execute_result"
    }
   ],
   "source": [
    "#This will convert 200 minutes to hours by diving by 60\n",
    "200/60"
   ]
  },
  {
   "cell_type": "markdown",
   "id": "04120f32-e4af-47f2-8add-751cd780d474",
   "metadata": {},
   "source": [
    "## Author\n",
    "Eilene"
   ]
  },
  {
   "cell_type": "code",
   "execution_count": null,
   "id": "9950b233-5218-4d86-a667-c40705680b21",
   "metadata": {},
   "outputs": [],
   "source": []
  }
 ],
 "metadata": {
  "kernelspec": {
   "display_name": "Python 3 (ipykernel)",
   "language": "python",
   "name": "python3"
  },
  "language_info": {
   "codemirror_mode": {
    "name": "ipython",
    "version": 3
   },
   "file_extension": ".py",
   "mimetype": "text/x-python",
   "name": "python",
   "nbconvert_exporter": "python",
   "pygments_lexer": "ipython3",
   "version": "3.11.5"
  }
 },
 "nbformat": 4,
 "nbformat_minor": 5
}
